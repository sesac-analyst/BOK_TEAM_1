{
 "cells": [
  {
   "cell_type": "code",
   "execution_count": 1,
   "metadata": {},
   "outputs": [],
   "source": [
    "import pandas as pd\n",
    "from ngram_dohy import NGram\n",
    "import os\n",
    "from concurrent.futures import ThreadPoolExecutor"
   ]
  },
  {
   "cell_type": "code",
   "execution_count": 2,
   "metadata": {},
   "outputs": [],
   "source": [
    "# # Split the DataFrame into 8 equal parts\n",
    "# df_parts = np.array_split(df_corpus, 10)\n",
    "\n",
    "# # Save each part as a separate CSV file\n",
    "# for i, part in enumerate(df_parts):\n",
    "#     part.to_csv(f'corpus_tokenized_{i+1}.csv', index=False)"
   ]
  },
  {
   "cell_type": "code",
   "execution_count": 3,
   "metadata": {},
   "outputs": [],
   "source": [
    "# create df for ten divided tokenized corpus\n",
    "dfs = {} # dictionary to store the dataframes\n",
    "for i in range(1, 11):\n",
    "    dfs[f'df_{i}'] = pd.read_csv(f'corpus_tokenized/corpus_tokenized_{i}.csv')"
   ]
  },
  {
   "cell_type": "code",
   "execution_count": 4,
   "metadata": {},
   "outputs": [],
   "source": [
    "dfs_batch = list(dfs.values())"
   ]
  },
  {
   "cell_type": "code",
   "execution_count": 5,
   "metadata": {},
   "outputs": [],
   "source": [
    "# create one big dataframe\n",
    "df_corpus = pd.concat(dfs.values(), ignore_index=True)"
   ]
  },
  {
   "cell_type": "code",
   "execution_count": 6,
   "metadata": {},
   "outputs": [
    {
     "data": {
      "text/plain": [
       "8"
      ]
     },
     "execution_count": 6,
     "metadata": {},
     "output_type": "execute_result"
    }
   ],
   "source": [
    "os.cpu_count()"
   ]
  },
  {
   "cell_type": "code",
   "execution_count": 7,
   "metadata": {},
   "outputs": [],
   "source": [
    "# NGram 객체 초기화\n",
    "ngram_generator = NGram()\n",
    "\n",
    "# 스레드 풀을 사용하여 병렬 처리\n",
    "def process_row(row):\n",
    "    pk = row['pk']\n",
    "    label = row['Label']\n",
    "    # 문자열을 리스트로 변환\n",
    "    tokens_pos = ngram_generator.str_to_list(row['tokens_pos'])\n",
    "    # POS 태그 제거\n",
    "    tokens_pos_use = ngram_generator.remove_pos(tokens_pos)\n",
    "    # n-gram 생성\n",
    "    ngram_results = []\n",
    "    for i in range(1, 6):\n",
    "        n_grams = ngram_generator.ngramize(tokens_pos_use, i)\n",
    "        for n_gram in n_grams:\n",
    "            ngram_results.append({'pk': pk, 'Label': label, 'ngram': n_gram})\n",
    "    return ngram_results\n"
   ]
  },
  {
   "cell_type": "code",
   "execution_count": 8,
   "metadata": {},
   "outputs": [],
   "source": [
    "def process_batch(data_batch):\n",
    "    with ThreadPoolExecutor(max_workers=os.cpu_count()//2) as executor:\n",
    "        results = list(executor.map(process_row, df_corpus.to_dict('records')))\n",
    "    flat_results = [item for sublist in results for item in sublist]\n",
    "    \n",
    "    # 각 n-gram에 대해 데이터프레임에 추가\n",
    "    global df\n",
    "    df = pd.concat([df, pd.DataFrame(flat_results)], ignore_index=True)\n",
    "    "
   ]
  },
  {
   "cell_type": "code",
   "execution_count": 9,
   "metadata": {},
   "outputs": [
    {
     "name": "stdout",
     "output_type": "stream",
     "text": [
      "1th batch processing...\n"
     ]
    }
   ],
   "source": [
    "df = pd.DataFrame()\n",
    "\n",
    "# 각 배치에 대해 처리\n",
    "for i, batch in enumerate(dfs_batch):\n",
    "    print(f'{i+1}th batch processing...')\n",
    "    process_batch(batch)"
   ]
  },
  {
   "cell_type": "code",
   "execution_count": null,
   "metadata": {},
   "outputs": [],
   "source": []
  }
 ],
 "metadata": {
  "kernelspec": {
   "display_name": "bok_team_1",
   "language": "python",
   "name": "python3"
  },
  "language_info": {
   "codemirror_mode": {
    "name": "ipython",
    "version": 3
   },
   "file_extension": ".py",
   "mimetype": "text/x-python",
   "name": "python",
   "nbconvert_exporter": "python",
   "pygments_lexer": "ipython3",
   "version": "3.12.4"
  }
 },
 "nbformat": 4,
 "nbformat_minor": 2
}
