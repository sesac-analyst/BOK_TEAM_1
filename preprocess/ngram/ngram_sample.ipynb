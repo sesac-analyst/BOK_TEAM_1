{
 "cells": [
  {
   "cell_type": "code",
   "execution_count": 22,
   "metadata": {},
   "outputs": [],
   "source": [
    "import pandas as pd\n",
    "import numpy as np\n",
    "import ast"
   ]
  },
  {
   "cell_type": "code",
   "execution_count": 3,
   "metadata": {},
   "outputs": [],
   "source": [
    "df_corpus = pd.read_csv('../tokenization/tokenized.csv')"
   ]
  },
  {
   "cell_type": "code",
   "execution_count": 6,
   "metadata": {},
   "outputs": [],
   "source": [
    "# Split the DataFrame into 8 equal parts\n",
    "df_parts = np.array_split(df_corpus, 10)\n",
    "\n",
    "# Save each part as a separate CSV file\n",
    "for i, part in enumerate(df_parts):\n",
    "    part.to_csv(f'corpus_tokenized_{i+1}.csv', index=False)"
   ]
  },
  {
   "cell_type": "code",
   "execution_count": 7,
   "metadata": {},
   "outputs": [],
   "source": [
    "df_mpb = pd.read_csv('../tokenization/mpb_tokens.csv')"
   ]
  },
  {
   "cell_type": "code",
   "execution_count": 11,
   "metadata": {},
   "outputs": [],
   "source": [
    "def ngramize_doh(tokens, n, pos_tags=['NNG', 'VA', 'MAG', 'VV', 'VCN']):\n",
    "    filtered_tokens = [token for token, pos in tokens if pos in pos_tags]\n",
    "    return [filtered_tokens[i:i+n] for i in range(len(filtered_tokens)-n+1)]"
   ]
  },
  {
   "cell_type": "code",
   "execution_count": 23,
   "metadata": {},
   "outputs": [
    {
     "data": {
      "text/plain": [
       "0      [(국내외, NNG), (경제동향, NNG), (과, JC), (관련, NNG), ...\n",
       "1      [(국내외, NNG), (경제동향, NNG), (과, JC), (관련, NNG), ...\n",
       "2      [(제안, NNG), (설명, NNG), (에, JKB), (이, VV), (어, ...\n",
       "3      [(국내외, NNG), (경제동향, NNG), (과, JC), (관련, NNG), ...\n",
       "4      [(제안, NNG), (설명, NNG), (에, JKB), (이, VV), (어, ...\n",
       "                             ...                        \n",
       "142    [(제안, NNG), (설명, NNG), (에, JKB), (이, VV), (어, ...\n",
       "143    [(제안, NNG), (설명, NNG), (에, JKB), (이, VV), (어, ...\n",
       "144    [(전일, NNG), (개최, NNG), (된, XSV), (동향, NNG), (보...\n",
       "145    [(fillnull, SL), (원안, NNG), (대로, JX), (가결, NNG...\n",
       "146    [(전일, NNG), (개최, NNG), (된, XSV), (동향, NNG), (보...\n",
       "Name: parsed_tokens, Length: 147, dtype: object"
      ]
     },
     "execution_count": 23,
     "metadata": {},
     "output_type": "execute_result"
    }
   ],
   "source": [
    "df_mpb['parsed_tokens'] = df_mpb['tokens'].apply(ast.literal_eval)\n",
    "df_mpb['parsed_tokens']"
   ]
  },
  {
   "cell_type": "code",
   "execution_count": 24,
   "metadata": {},
   "outputs": [
    {
     "data": {
      "text/plain": [
       "0      [[국내외, 경제동향], [경제동향, 관련], [관련, 일부위원], [일부위원, 최...\n",
       "1      [[국내외, 경제동향], [경제동향, 관련], [관련, 일부위원], [일부위원, 실...\n",
       "2      [[제안, 설명], [설명, 이], [이, 관련부서], [관련부서, 금번], [금번...\n",
       "3      [[국내외, 경제동향], [경제동향, 관련], [관련, 일부위원], [일부위원, 지...\n",
       "4      [[제안, 설명], [설명, 이], [이, 관련부서], [관련부서, 보], [보, ...\n",
       "                             ...                        \n",
       "142    [[제안, 설명], [설명, 이], [이, 관련부서], [관련부서, 안건], [안건...\n",
       "143    [[제안, 설명], [설명, 이], [이, 관련부서], [관련부서, 안건], [안건...\n",
       "144    [[전일, 개최], [개최, 동향], [동향, 회의], [회의, 다음], [다음, ...\n",
       "145    [[원안, 가결], [가결, 의결], [의결, 사항], [사항, 한국은행], [한국...\n",
       "146    [[전일, 개최], [개최, 동향], [동향, 회의], [회의, 다음], [다음, ...\n",
       "Name: parsed_tokens, Length: 147, dtype: object"
      ]
     },
     "execution_count": 24,
     "metadata": {},
     "output_type": "execute_result"
    }
   ],
   "source": [
    "bigram = df_mpb['parsed_tokens'].apply(lambda x: ngramize_doh(x, 2))\n",
    "bigram"
   ]
  },
  {
   "cell_type": "code",
   "execution_count": null,
   "metadata": {},
   "outputs": [],
   "source": []
  },
  {
   "cell_type": "code",
   "execution_count": null,
   "metadata": {},
   "outputs": [],
   "source": []
  }
 ],
 "metadata": {
  "kernelspec": {
   "display_name": "bok_team_1",
   "language": "python",
   "name": "python3"
  },
  "language_info": {
   "codemirror_mode": {
    "name": "ipython",
    "version": 3
   },
   "file_extension": ".py",
   "mimetype": "text/x-python",
   "name": "python",
   "nbconvert_exporter": "python",
   "pygments_lexer": "ipython3",
   "version": "3.8.18"
  }
 },
 "nbformat": 4,
 "nbformat_minor": 2
}
