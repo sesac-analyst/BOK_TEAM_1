{
 "cells": [
  {
   "cell_type": "code",
   "execution_count": 2,
   "metadata": {},
   "outputs": [],
   "source": [
    "import pandas as pd\n",
    "from ekonlpy.tag import Mecab\n",
    "from multiprocessing import Pool, cpu_count"
   ]
  },
  {
   "cell_type": "code",
   "execution_count": 3,
   "metadata": {},
   "outputs": [],
   "source": [
    "mecab = Mecab()"
   ]
  },
  {
   "cell_type": "code",
   "execution_count": 4,
   "metadata": {},
   "outputs": [],
   "source": [
    "def tok_pos(text):\n",
    "    return mecab.pos(text)"
   ]
  },
  {
   "cell_type": "code",
   "execution_count": 8,
   "metadata": {},
   "outputs": [
    {
     "data": {
      "text/html": [
       "<div>\n",
       "<style scoped>\n",
       "    .dataframe tbody tr th:only-of-type {\n",
       "        vertical-align: middle;\n",
       "    }\n",
       "\n",
       "    .dataframe tbody tr th {\n",
       "        vertical-align: top;\n",
       "    }\n",
       "\n",
       "    .dataframe thead th {\n",
       "        text-align: right;\n",
       "    }\n",
       "</style>\n",
       "<table border=\"1\" class=\"dataframe\">\n",
       "  <thead>\n",
       "    <tr style=\"text-align: right;\">\n",
       "      <th></th>\n",
       "      <th>pk</th>\n",
       "      <th>Date</th>\n",
       "      <th>Title</th>\n",
       "      <th>Content</th>\n",
       "      <th>Label</th>\n",
       "    </tr>\n",
       "  </thead>\n",
       "  <tbody>\n",
       "    <tr>\n",
       "      <th>115990</th>\n",
       "      <td>520140814001</td>\n",
       "      <td>2014-08-14</td>\n",
       "      <td>금융통화위원회 의사록2014년도 제15차2014814</td>\n",
       "      <td>국내외 경제동향 과 관련하여 일부 위원은 최근 경제의 흐름이 지난 7월 경제전망과 ...</td>\n",
       "      <td>0</td>\n",
       "    </tr>\n",
       "    <tr>\n",
       "      <th>115991</th>\n",
       "      <td>520140912001</td>\n",
       "      <td>2014-09-12</td>\n",
       "      <td>금융통화위원회 의사록2014년도 제17차2014912</td>\n",
       "      <td>국내외 경제동향 과 관련하여 일부 위원은 실물경기는 세부부문별로 개선과악화가 계속 ...</td>\n",
       "      <td>0</td>\n",
       "    </tr>\n",
       "    <tr>\n",
       "      <th>115992</th>\n",
       "      <td>520140925001</td>\n",
       "      <td>2014-09-25</td>\n",
       "      <td>금융통화위원회 의사록2014년도 제18차2014925</td>\n",
       "      <td>제안설명에 이어 관련부서는 금번 통화신용정책 보고서의 작성과 위원간의견조정 등이 주...</td>\n",
       "      <td>0</td>\n",
       "    </tr>\n",
       "    <tr>\n",
       "      <th>115993</th>\n",
       "      <td>520141015001</td>\n",
       "      <td>2014-10-15</td>\n",
       "      <td>금융통화위원회 의사록2014년도 제19차20141015</td>\n",
       "      <td>국내외 경제동향 과 관련하여 일부 위원은 지난 국정감사시 등 당행의 경제전망에 대한...</td>\n",
       "      <td>0</td>\n",
       "    </tr>\n",
       "    <tr>\n",
       "      <th>115994</th>\n",
       "      <td>520141023001</td>\n",
       "      <td>2014-10-23</td>\n",
       "      <td>금융통화위원회 의사록2014년도 제20차20141023</td>\n",
       "      <td>제안설명에 이어 관련부서는 보고서 작성의 기본방향 금융안정 현안에대한 주요 분석 내...</td>\n",
       "      <td>1</td>\n",
       "    </tr>\n",
       "  </tbody>\n",
       "</table>\n",
       "</div>"
      ],
      "text/plain": [
       "                  pk        Date                           Title  \\\n",
       "115990  520140814001  2014-08-14   금융통화위원회 의사록2014년도 제15차2014814   \n",
       "115991  520140912001  2014-09-12   금융통화위원회 의사록2014년도 제17차2014912   \n",
       "115992  520140925001  2014-09-25   금융통화위원회 의사록2014년도 제18차2014925   \n",
       "115993  520141015001  2014-10-15  금융통화위원회 의사록2014년도 제19차20141015   \n",
       "115994  520141023001  2014-10-23  금융통화위원회 의사록2014년도 제20차20141023   \n",
       "\n",
       "                                                  Content  Label  \n",
       "115990  국내외 경제동향 과 관련하여 일부 위원은 최근 경제의 흐름이 지난 7월 경제전망과 ...      0  \n",
       "115991  국내외 경제동향 과 관련하여 일부 위원은 실물경기는 세부부문별로 개선과악화가 계속 ...      0  \n",
       "115992  제안설명에 이어 관련부서는 금번 통화신용정책 보고서의 작성과 위원간의견조정 등이 주...      0  \n",
       "115993  국내외 경제동향 과 관련하여 일부 위원은 지난 국정감사시 등 당행의 경제전망에 대한...      0  \n",
       "115994  제안설명에 이어 관련부서는 보고서 작성의 기본방향 금융안정 현안에대한 주요 분석 내...      1  "
      ]
     },
     "execution_count": 8,
     "metadata": {},
     "output_type": "execute_result"
    }
   ],
   "source": [
    "df_corpus = pd.read_csv('../data_combine/corpus_data.csv')\n",
    "df_mpb = df_corpus[df_corpus['pk'].astype(str).str.startswith('5')]\n",
    "df_mpb.head()"
   ]
  },
  {
   "cell_type": "code",
   "execution_count": 9,
   "metadata": {},
   "outputs": [
    {
     "name": "stderr",
     "output_type": "stream",
     "text": [
      "/var/folders/gd/0dt483qd2cg3cqgcsrx3pnkr0000gp/T/ipykernel_20284/1528243245.py:1: SettingWithCopyWarning: \n",
      "A value is trying to be set on a copy of a slice from a DataFrame.\n",
      "Try using .loc[row_indexer,col_indexer] = value instead\n",
      "\n",
      "See the caveats in the documentation: https://pandas.pydata.org/pandas-docs/stable/user_guide/indexing.html#returning-a-view-versus-a-copy\n",
      "  df_mpb['tokens'] = df_mpb['Content'].apply(tok_pos)\n"
     ]
    }
   ],
   "source": [
    "df_mpb['tokens'] = df_mpb['Content'].apply(tok_pos)"
   ]
  },
  {
   "cell_type": "code",
   "execution_count": 10,
   "metadata": {},
   "outputs": [
    {
     "data": {
      "text/plain": [
       "115990    [(국내외, NNG), (경제동향, NNG), (과, JC), (관련, NNG), ...\n",
       "115991    [(국내외, NNG), (경제동향, NNG), (과, JC), (관련, NNG), ...\n",
       "115992    [(제안, NNG), (설명, NNG), (에, JKB), (이, VV), (어, ...\n",
       "115993    [(국내외, NNG), (경제동향, NNG), (과, JC), (관련, NNG), ...\n",
       "115994    [(제안, NNG), (설명, NNG), (에, JKB), (이, VV), (어, ...\n",
       "Name: tokens, dtype: object"
      ]
     },
     "execution_count": 10,
     "metadata": {},
     "output_type": "execute_result"
    }
   ],
   "source": [
    "df_mpb['tokens'].head()"
   ]
  },
  {
   "cell_type": "code",
   "execution_count": 11,
   "metadata": {},
   "outputs": [],
   "source": [
    "df_mpb.to_csv('mpb_tokens.csv', index=False)"
   ]
  },
  {
   "cell_type": "code",
   "execution_count": 47,
   "metadata": {},
   "outputs": [],
   "source": [
    "# 토크나이저 & POS tagging\n",
    "import pandas as pd\n",
    "from ekonlpy.tag import Mecab\n",
    "from multiprocessing import Pool\n",
    "\n",
    "# Initialize Mecab\n",
    "mecab = Mecab()\n",
    "\n",
    "def tokenize_and_pos(text):\n",
    "    \"\"\" Tokenize and perform POS tagging using Mecab. \"\"\"\n",
    "    return mecab.pos(text)\n",
    "\n",
    "def process_in_batches(df, batch_size=1000, output_prefix='processed_batch'):\n",
    "    \"\"\" Process data in batches to handle large datasets and save intermediate results. \"\"\"\n",
    "    for start in range(0, len(df), batch_size):\n",
    "        end = min(start + batch_size, len(df))\n",
    "        batch = df.iloc[start:end].copy()  # Create a copy of the slice\n",
    "        batch['tokens_pos'] = batch['Content'].apply(tokenize_and_pos)\n",
    "        # Save intermediate results\n",
    "        batch.to_csv(f'{output_prefix}_{start}.csv', index=False)\n",
    "\n",
    "def parallel_process(df):\n",
    "    \"\"\" Use parallel processing to speed up the tokenization and POS tagging. \"\"\"\n",
    "    with Pool() as pool:\n",
    "        df['tokens_pos'] = pool.map(tokenize_and_pos, df['Content'])\n",
    "    return df\n",
    "\n",
    "def main():\n",
    "    # Load your dataset (adjust the path to your file)\n",
    "    df = pd.read_csv(\"../data_combine/corpus_data.csv\")  # Ensure your CSV file has a column named 'Content'\n",
    "\n",
    "    # Process in batches\n",
    "    process_in_batches(df, batch_size=1000, output_prefix='processed_batch')\n",
    "\n",
    "    # Combine all intermediate results into a final file\n",
    "    import glob\n",
    "    import os\n",
    "\n",
    "    # List all batch files\n",
    "    batch_files = glob.glob('processed_batch_*.csv')\n",
    "\n",
    "    # Initialize an empty DataFrame for the final result\n",
    "    final_df = pd.DataFrame()\n",
    "\n",
    "    # Append each batch file to the final DataFrame\n",
    "    for batch_file in sorted(batch_files):\n",
    "        batch_df = pd.read_csv(batch_file)\n",
    "        final_df = pd.concat([final_df, batch_df], ignore_index=True)\n",
    "\n",
    "    # Save the final result to a different name\n",
    "    final_df.to_csv('tokenized.csv', index=False)\n",
    "\n",
    "    # Optionally, clean up intermediate batch files\n",
    "    for batch_file in batch_files:\n",
    "        os.remove(batch_file)\n",
    "\n",
    "if __name__ == \"__main__\":\n",
    "    main()"
   ]
  },
  {
   "cell_type": "code",
   "execution_count": null,
   "metadata": {},
   "outputs": [],
   "source": []
  }
 ],
 "metadata": {
  "kernelspec": {
   "display_name": "bok_team_1",
   "language": "python",
   "name": "python3"
  },
  "language_info": {
   "codemirror_mode": {
    "name": "ipython",
    "version": 3
   },
   "file_extension": ".py",
   "mimetype": "text/x-python",
   "name": "python",
   "nbconvert_exporter": "python",
   "pygments_lexer": "ipython3",
   "version": "3.8.18"
  }
 },
 "nbformat": 4,
 "nbformat_minor": 2
}
