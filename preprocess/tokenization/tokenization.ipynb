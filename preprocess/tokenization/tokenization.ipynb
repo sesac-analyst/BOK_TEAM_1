{
 "cells": [
  {
   "cell_type": "code",
   "execution_count": 34,
   "metadata": {},
   "outputs": [],
   "source": [
    "import pandas as pd\n",
    "from ekonlpy.tag import Mecab\n",
    "from multiprocessing import Pool, cpu_count"
   ]
  },
  {
   "cell_type": "code",
   "execution_count": 39,
   "metadata": {},
   "outputs": [],
   "source": [
    "mecab = Mecab()"
   ]
  },
  {
   "cell_type": "code",
   "execution_count": 17,
   "metadata": {},
   "outputs": [],
   "source": [
    "def tok_pos(text):\n",
    "    return mecab.pos(text)"
   ]
  },
  {
   "cell_type": "code",
   "execution_count": 41,
   "metadata": {},
   "outputs": [],
   "source": [
    "df_corpus = pd.read_csv('corpus_data.csv')\n",
    "df_sample = df_corpus.sample(1000)"
   ]
  },
  {
   "cell_type": "code",
   "execution_count": 42,
   "metadata": {},
   "outputs": [],
   "source": [
    "df_sample['tokens'] = df_sample['Content'].apply(tok_pos)"
   ]
  },
  {
   "cell_type": "code",
   "execution_count": 43,
   "metadata": {},
   "outputs": [
    {
     "data": {
      "text/plain": [
       "13185     [(연일, NNG), (하락, NNG), (으로, JKB), (치닫, VV), (던...\n",
       "113521    [(자료, NNG), (출처, NNG), (연합인포맥스, NNP), (Refinit...\n",
       "4787      [(12, SN), (일, NNG), ((, SSO), (미국, NNG), (시간,...\n",
       "66181     [(금리스와프, NNG), (IRS, NNG), (는, JX), (약보합세, NNG...\n",
       "10727     [((, SSO), (홍성, NNG), (=, SY), (연합뉴스, NNP), ()...\n",
       "Name: tokens, dtype: object"
      ]
     },
     "execution_count": 43,
     "metadata": {},
     "output_type": "execute_result"
    }
   ],
   "source": [
    "df_sample['tokens'].head()"
   ]
  },
  {
   "cell_type": "code",
   "execution_count": 47,
   "metadata": {},
   "outputs": [],
   "source": [
    "# 토크나이저 & POS tagging\n",
    "import pandas as pd\n",
    "from ekonlpy.tag import Mecab\n",
    "from multiprocessing import Pool\n",
    "\n",
    "# Initialize Mecab\n",
    "mecab = Mecab()\n",
    "\n",
    "def tokenize_and_pos(text):\n",
    "    \"\"\" Tokenize and perform POS tagging using Mecab. \"\"\"\n",
    "    return mecab.pos(text)\n",
    "\n",
    "def process_in_batches(df, batch_size=1000, output_prefix='processed_batch'):\n",
    "    \"\"\" Process data in batches to handle large datasets and save intermediate results. \"\"\"\n",
    "    for start in range(0, len(df), batch_size):\n",
    "        end = min(start + batch_size, len(df))\n",
    "        batch = df.iloc[start:end].copy()  # Create a copy of the slice\n",
    "        batch['tokens_pos'] = batch['Content'].apply(tokenize_and_pos)\n",
    "        # Save intermediate results\n",
    "        batch.to_csv(f'{output_prefix}_{start}.csv', index=False)\n",
    "\n",
    "def parallel_process(df):\n",
    "    \"\"\" Use parallel processing to speed up the tokenization and POS tagging. \"\"\"\n",
    "    with Pool() as pool:\n",
    "        df['tokens_pos'] = pool.map(tokenize_and_pos, df['Content'])\n",
    "    return df\n",
    "\n",
    "def main():\n",
    "    # Load your dataset (adjust the path to your file)\n",
    "    df = pd.read_csv(\"corpus_data.csv\")  # Ensure your CSV file has a column named 'Content'\n",
    "\n",
    "    # Process in batches\n",
    "    process_in_batches(df, batch_size=1000, output_prefix='processed_batch')\n",
    "\n",
    "    # Combine all intermediate results into a final file\n",
    "    import glob\n",
    "    import os\n",
    "\n",
    "    # List all batch files\n",
    "    batch_files = glob.glob('processed_batch_*.csv')\n",
    "\n",
    "    # Initialize an empty DataFrame for the final result\n",
    "    final_df = pd.DataFrame()\n",
    "\n",
    "    # Append each batch file to the final DataFrame\n",
    "    for batch_file in sorted(batch_files):\n",
    "        batch_df = pd.read_csv(batch_file)\n",
    "        final_df = pd.concat([final_df, batch_df], ignore_index=True)\n",
    "\n",
    "    # Save the final result to a different name\n",
    "    final_df.to_csv('tokenized.csv', index=False)\n",
    "\n",
    "    # Optionally, clean up intermediate batch files\n",
    "    for batch_file in batch_files:\n",
    "        os.remove(batch_file)\n",
    "\n",
    "if __name__ == \"__main__\":\n",
    "    main()"
   ]
  },
  {
   "cell_type": "code",
   "execution_count": null,
   "metadata": {},
   "outputs": [],
   "source": []
  }
 ],
 "metadata": {
  "kernelspec": {
   "display_name": "bok_team_1",
   "language": "python",
   "name": "python3"
  },
  "language_info": {
   "codemirror_mode": {
    "name": "ipython",
    "version": 3
   },
   "file_extension": ".py",
   "mimetype": "text/x-python",
   "name": "python",
   "nbconvert_exporter": "python",
   "pygments_lexer": "ipython3",
   "version": "3.8.18"
  }
 },
 "nbformat": 4,
 "nbformat_minor": 2
}
