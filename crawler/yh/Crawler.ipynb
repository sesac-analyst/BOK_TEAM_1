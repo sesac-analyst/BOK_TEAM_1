{
  "nbformat": 4,
  "nbformat_minor": 0,
  "metadata": {
    "colab": {
      "provenance": []
    },
    "kernelspec": {
      "name": "python3",
      "display_name": "Python 3"
    },
    "language_info": {
      "name": "python"
    }
  },
  "cells": [
    {
      "cell_type": "code",
      "execution_count": 1,
      "metadata": {
        "id": "wemtQPJGbY8C"
      },
      "outputs": [],
      "source": [
        "import requests"
      ]
    },
    {
      "cell_type": "code",
      "source": [
        "URL = 'https://yozm.wishket.com/magazine/list/develop/?page=6'"
      ],
      "metadata": {
        "id": "OgHOdZ0xdpRI"
      },
      "execution_count": 2,
      "outputs": []
    },
    {
      "cell_type": "code",
      "source": [
        "res = requests.get(URL, headers = {\n",
        "    'User-Agent': 'Mozilla/5.0 (Windows NT 10.0; Win64; x64) AppleWebKit/537.36 (KHTML, like Gecko) Chrome/127.0.0.0 Safari/537.36'\n",
        "}) # User-Agent : python/requests"
      ],
      "metadata": {
        "id": "i1G703hWd8hJ"
      },
      "execution_count": 3,
      "outputs": []
    },
    {
      "cell_type": "code",
      "source": [
        "res.status_code, res.text #, res.json()"
      ],
      "metadata": {
        "id": "b0DcyAEYeXlQ"
      },
      "execution_count": null,
      "outputs": []
    },
    {
      "cell_type": "code",
      "source": [
        "from bs4 import BeautifulSoup\n",
        "soup = BeautifulSoup(res.text)"
      ],
      "metadata": {
        "id": "7WBVs0LdeYTB"
      },
      "execution_count": 7,
      "outputs": []
    },
    {
      "cell_type": "code",
      "source": [
        "soup.find_all('a', class_=\"item-title\")\n",
        "soup.find_all('img', class_='thumbnail-image')"
      ],
      "metadata": {
        "id": "fVP2sifFgn3P"
      },
      "execution_count": null,
      "outputs": []
    },
    {
      "cell_type": "code",
      "source": [
        "boxes = soup.select('div.list-item-link') # 여러 개 # 게시글들 박스\n",
        "# selector\n",
        "# class -> .\n",
        "# id -> #\n",
        "DOMAIN_URL = 'https://yozm.wishket.com'\n",
        "results = []\n",
        "for box in boxes:\n",
        "    title_tag = box.select_one('.item-title') # 한 개 # 게시글 제목 or 링크, 내용\n",
        "    # print(title_tag.text.strip()) # 제목\n",
        "    # print(DOMAIN_URL + title_tag.attrs['href']) # 게시글 링크\n",
        "    results.append({\n",
        "        '제목': title_tag.text.strip(),\n",
        "        '링크': DOMAIN_URL + title_tag.attrs['href'],\n",
        "        # 작성일시, 작성자, ...\n",
        "    })\n",
        "results"
      ],
      "metadata": {
        "id": "_p45HRzLfPx9"
      },
      "execution_count": null,
      "outputs": []
    },
    {
      "cell_type": "code",
      "source": [],
      "metadata": {
        "id": "2oPq-MfrivKW"
      },
      "execution_count": null,
      "outputs": []
    },
    {
      "cell_type": "markdown",
      "source": [
        "실습 1\n",
        "- HTML 문서 내에 본문을 나타내는 태그의 ID를 찾아 태그내의 내용을 출력해주세요.\n",
        "- https://ko.wikipedia.org/wiki/위키백과"
      ],
      "metadata": {
        "id": "a3o-4FWVrHCy"
      }
    },
    {
      "cell_type": "code",
      "source": [
        "res = requests.get('https://ko.wikipedia.org/wiki/위키백과')\n",
        "res.status_code"
      ],
      "metadata": {
        "colab": {
          "base_uri": "https://localhost:8080/"
        },
        "id": "QxGlIgZEnoaQ",
        "outputId": "4e3fbf66-ad5f-4e4d-dea3-13e90304eaab"
      },
      "execution_count": 21,
      "outputs": [
        {
          "output_type": "execute_result",
          "data": {
            "text/plain": [
              "200"
            ]
          },
          "metadata": {},
          "execution_count": 21
        }
      ]
    },
    {
      "cell_type": "code",
      "source": [
        "soup = BeautifulSoup(res.text)\n",
        "# id = mw-content-text\n",
        "content_tag = soup.select_one('#mw-content-text')\n",
        "print(content_tag.text.strip())"
      ],
      "metadata": {
        "id": "phdzK19huqF-"
      },
      "execution_count": null,
      "outputs": []
    },
    {
      "cell_type": "markdown",
      "source": [
        "실습 2\n",
        "- HTML 문서 내에서 공고문 하나하나를 구분하는 클래스를 찾아 해당 태그내의 내용을 출력해주세요\n",
        "- https://www.saramin.co.kr/zf_user/jobs/public/list"
      ],
      "metadata": {
        "id": "LL7o04iLrJa-"
      }
    },
    {
      "cell_type": "code",
      "source": [
        "res = requests.get('https://www.saramin.co.kr/zf_user/jobs/public/list', headers = {\n",
        "    'User-Agent': 'Mozilla/5.0 (Windows NT 10.0; Win64; x64) AppleWebKit/537.36 (KHTML, like Gecko) Chrome/127.0.0.0 Safari/537.36'\n",
        "})\n",
        "\n",
        "res.status_code"
      ],
      "metadata": {
        "colab": {
          "base_uri": "https://localhost:8080/"
        },
        "id": "4zOk579NrJx5",
        "outputId": "4bc0770e-ef1d-4976-81b3-e7d0b0ad443b"
      },
      "execution_count": 28,
      "outputs": [
        {
          "output_type": "execute_result",
          "data": {
            "text/plain": [
              "200"
            ]
          },
          "metadata": {},
          "execution_count": 28
        }
      ]
    },
    {
      "cell_type": "code",
      "source": [
        "res.text.find('완주우체국')"
      ],
      "metadata": {
        "colab": {
          "base_uri": "https://localhost:8080/"
        },
        "id": "4iQ_CanowFTE",
        "outputId": "f146e8b7-b4ad-44bb-81f7-5301910c456b"
      },
      "execution_count": 32,
      "outputs": [
        {
          "output_type": "execute_result",
          "data": {
            "text/plain": [
              "2086533"
            ]
          },
          "metadata": {},
          "execution_count": 32
        }
      ]
    },
    {
      "cell_type": "code",
      "source": [
        "soup = BeautifulSoup(res.text)"
      ],
      "metadata": {
        "id": "0fVbHcOywTlQ"
      },
      "execution_count": 33,
      "outputs": []
    },
    {
      "cell_type": "code",
      "source": [
        "boxes = soup.select('.list_item')\n",
        "\n",
        "for box in boxes:\n",
        "    print(box.text)"
      ],
      "metadata": {
        "id": "eukyU5kJx4aE"
      },
      "execution_count": null,
      "outputs": []
    },
    {
      "cell_type": "code",
      "source": [
        "type(boxes)\n",
        "for box_tag in boxes:\n",
        "    ..."
      ],
      "metadata": {
        "id": "9O-UIzA0zENi"
      },
      "execution_count": null,
      "outputs": []
    },
    {
      "cell_type": "code",
      "source": [
        "type(boxes[0])"
      ],
      "metadata": {
        "id": "PTOxq1sS07fG"
      },
      "execution_count": null,
      "outputs": []
    },
    {
      "cell_type": "code",
      "source": [
        "type(content_tag)"
      ],
      "metadata": {
        "id": "Qre0G98w0l88"
      },
      "execution_count": null,
      "outputs": []
    },
    {
      "cell_type": "code",
      "source": [],
      "metadata": {
        "id": "ibfmY7AFIAJg"
      },
      "execution_count": null,
      "outputs": []
    },
    {
      "cell_type": "markdown",
      "source": [
        "실습 3\n",
        "- 사이트에서 onclick 속성에 goView가 포함된 태그를 하나만 선택해 출력해주세요.\n",
        "- https://youth.seoul.go.kr/infoData/sprtInfo/list.do\n"
      ],
      "metadata": {
        "id": "Yu_wZ5oyIAmb"
      }
    },
    {
      "cell_type": "code",
      "source": [
        "res = requests.get('https://youth.seoul.go.kr/infoData/sprtInfo/list.do')\n",
        "res.status_code"
      ],
      "metadata": {
        "colab": {
          "base_uri": "https://localhost:8080/"
        },
        "id": "tUnzn1-6JAU7",
        "outputId": "a19a997b-f9c9-4fc7-b377-29245d93aebd"
      },
      "execution_count": 48,
      "outputs": [
        {
          "output_type": "execute_result",
          "data": {
            "text/plain": [
              "200"
            ]
          },
          "metadata": {},
          "execution_count": 48
        }
      ]
    },
    {
      "cell_type": "code",
      "source": [
        "res.text.find('goView')"
      ],
      "metadata": {
        "colab": {
          "base_uri": "https://localhost:8080/"
        },
        "id": "Patuo9ZKOE41",
        "outputId": "d575556c-158b-4ab7-d447-123c4c1056c5"
      },
      "execution_count": 50,
      "outputs": [
        {
          "output_type": "execute_result",
          "data": {
            "text/plain": [
              "114193"
            ]
          },
          "metadata": {},
          "execution_count": 50
        }
      ]
    },
    {
      "cell_type": "code",
      "source": [
        "soup = BeautifulSoup(res.text)\n",
        "soup.select_one('[onclick*=\"goView\"]').text"
      ],
      "metadata": {
        "colab": {
          "base_uri": "https://localhost:8080/",
          "height": 36
        },
        "id": "4ordGQTKOLgo",
        "outputId": "38b11b4b-030e-4ab1-ac39-47d406601d5e"
      },
      "execution_count": 53,
      "outputs": [
        {
          "output_type": "execute_result",
          "data": {
            "text/plain": [
              "'서울시 &lt;미래 청년 일자리 2차&gt; 신청 안내 .....1881026'"
            ],
            "application/vnd.google.colaboratory.intrinsic+json": {
              "type": "string"
            }
          },
          "metadata": {},
          "execution_count": 53
        }
      ]
    },
    {
      "cell_type": "code",
      "source": [
        "len(soup.select('[class~=\"view-list\"]'))"
      ],
      "metadata": {
        "colab": {
          "base_uri": "https://localhost:8080/"
        },
        "id": "w7zvj2tXO1H7",
        "outputId": "8c5c1fe3-7b11-479c-a29b-6043ecc07fc1"
      },
      "execution_count": 58,
      "outputs": [
        {
          "output_type": "execute_result",
          "data": {
            "text/plain": [
              "1"
            ]
          },
          "metadata": {},
          "execution_count": 58
        }
      ]
    },
    {
      "cell_type": "markdown",
      "source": [
        "실습 4\n",
        "- 사이트에서 주요뉴스 내용과 일자별 뉴스들을 리스트로 정리해주세요\n",
        "- https://ko.wikipedia.org/wiki/포털:요즘_화제\n",
        "- 결과 : [‘주요 뉴스’, '8월 25일, 파키스탄에서 일어난 홍수로 1,000명 이상의 주민이 사망하고, 가축 70,000마리 이상이 죽었다.’, ...,\n",
        "'Current events of 2022년 8월 29일\\xa0(2022-08-29) (월요일)', ‘대한민국의 0시 기준 누적 \\u200b확진자 수가 23,026,960명으로\n",
        "집계되었다. 전날 0시 대비 43,142명(국내 42,782, 해외유입 360)이 늘었다.’, ...]"
      ],
      "metadata": {
        "id": "JmEXU95xICZ-"
      }
    },
    {
      "cell_type": "code",
      "source": [
        "res = requests.get('https://ko.wikipedia.org/wiki/포털:요즘_화제')\n",
        "res.status_code"
      ],
      "metadata": {
        "colab": {
          "base_uri": "https://localhost:8080/"
        },
        "id": "5MITDW8bI-uN",
        "outputId": "14a26b99-b8e4-4429-b4df-76da81e3465d"
      },
      "execution_count": 59,
      "outputs": [
        {
          "output_type": "execute_result",
          "data": {
            "text/plain": [
              "200"
            ]
          },
          "metadata": {},
          "execution_count": 59
        }
      ]
    },
    {
      "cell_type": "code",
      "source": [
        "soup = BeautifulSoup(res.text)"
      ],
      "metadata": {
        "id": "GCW1qO-MPeg0"
      },
      "execution_count": 60,
      "outputs": []
    },
    {
      "cell_type": "code",
      "source": [
        "vevents = soup.select('.vevent')[:-3]"
      ],
      "metadata": {
        "id": "a4ByffjrQn-J"
      },
      "execution_count": 61,
      "outputs": []
    },
    {
      "cell_type": "code",
      "source": [
        "results = []"
      ],
      "metadata": {
        "id": "-w6nSde8Y3nW"
      },
      "execution_count": 69,
      "outputs": []
    },
    {
      "cell_type": "code",
      "source": [
        "# 주요뉴스 처리`\n",
        "vevent_tag = vevents[0]\n",
        "tr_tags = vevent_tag.select('tbody table tr')\n",
        "results.append(tr_tags[0].text.strip()) # 제목\n",
        "li_tags = tr_tags[1].select('li')\n",
        "# li_tags[0].text\n",
        "results.extend([li_tag.text for li_tag in li_tags]) # 내용\n",
        "results"
      ],
      "metadata": {
        "colab": {
          "base_uri": "https://localhost:8080/"
        },
        "id": "jOMdvjhcTQ1l",
        "outputId": "bec1e30f-e8f1-42f5-d8a1-cede11772ed1"
      },
      "execution_count": 70,
      "outputs": [
        {
          "output_type": "execute_result",
          "data": {
            "text/plain": [
              "['주요 뉴스',\n",
              " '8월 5일, 방글라데시의 총리 셰이크 하시나(사진)가 반정부 항의에 이어 사임을 하고 인도로 달아났다.',\n",
              " '7월 31일, 하마스의 지도자 이스마일 하니예가 이란 테헤란에서 암살되었다.',\n",
              " '7월 26일, 2024년 하계 올림픽이 프랑스 파리에서 개막했다.',\n",
              " '7월 22일, 에티오피아에서 발생한 두 차례의 산사태로 257명 이상이 사망했다.',\n",
              " '7월 21일, 조 바이든 미국 대통령이 2024년 미국 대통령 선거에 불출마하겠다고 밝혔다.']"
            ]
          },
          "metadata": {},
          "execution_count": 70
        }
      ]
    },
    {
      "cell_type": "code",
      "source": [
        "for vevent_tag in vevents[1:]: # 주요뉴스 뒷부분 (일자별 뉴스 정리)\n",
        "    # 날짜\n",
        "    tr_tags = vevent_tag.select('tbody table tr')\n",
        "    results.append(tr_tags[0].text.strip()) # 제목\n",
        "    # 뉴스들\n",
        "    tr_tags = vevent_tag.select('tbody tr') # 2개 -> 3개\n",
        "    # print(len(tr_tags))\n",
        "    tr_tag = tr_tags[-1] # 뉴스 기사들이 담긴 태그\n",
        "    li_tags = tr_tag.select('li')\n",
        "    results.extend([li_tag.text for li_tag in li_tags])"
      ],
      "metadata": {
        "id": "xTAizdEAPeY7"
      },
      "execution_count": 72,
      "outputs": []
    },
    {
      "cell_type": "code",
      "source": [],
      "metadata": {
        "id": "bm8CsS9NZuhy"
      },
      "execution_count": null,
      "outputs": []
    },
    {
      "cell_type": "code",
      "source": [
        "res = requests.get('http://www.cine21.com/rank/boxoffice/domestic')"
      ],
      "metadata": {
        "id": "NOGyFG9Vc4sU"
      },
      "execution_count": 73,
      "outputs": []
    },
    {
      "cell_type": "code",
      "source": [
        "res.text.find('파일럿')"
      ],
      "metadata": {
        "colab": {
          "base_uri": "https://localhost:8080/"
        },
        "id": "PTJKJnz4c4mR",
        "outputId": "f00b0f1f-805e-4b57-c842-8a2dafe8d864"
      },
      "execution_count": 74,
      "outputs": [
        {
          "output_type": "execute_result",
          "data": {
            "text/plain": [
              "-1"
            ]
          },
          "metadata": {},
          "execution_count": 74
        }
      ]
    },
    {
      "cell_type": "code",
      "source": [
        "res = requests.post('http://www.cine21.com/rank/boxoffice/domestic_content', data={\n",
        "    'page': 4,\n",
        "    'genre': 'all',\n",
        "    'period': '2024-07-31'\n",
        "})\n",
        "res.status_code"
      ],
      "metadata": {
        "colab": {
          "base_uri": "https://localhost:8080/"
        },
        "id": "jWXewPK7dtqE",
        "outputId": "e357537e-33f0-4a4d-a1ec-e5e26bf08150"
      },
      "execution_count": 96,
      "outputs": [
        {
          "output_type": "execute_result",
          "data": {
            "text/plain": [
              "200"
            ]
          },
          "metadata": {},
          "execution_count": 96
        }
      ]
    },
    {
      "cell_type": "code",
      "source": [
        "res.text.find('파일럿')"
      ],
      "metadata": {
        "colab": {
          "base_uri": "https://localhost:8080/"
        },
        "id": "IgEL_w_TdOjt",
        "outputId": "16ba52ca-fe6d-4a39-b788-e89b3d7d8ae5"
      },
      "execution_count": 97,
      "outputs": [
        {
          "output_type": "execute_result",
          "data": {
            "text/plain": [
              "-1"
            ]
          },
          "metadata": {},
          "execution_count": 97
        }
      ]
    },
    {
      "cell_type": "code",
      "source": [
        "soup = BeautifulSoup(res.text) # html"
      ],
      "metadata": {
        "id": "xBk98p1wfEnX"
      },
      "execution_count": 98,
      "outputs": []
    },
    {
      "cell_type": "code",
      "source": [
        "movies = soup.select('.boxoffice_li')\n",
        "\n",
        "results = []\n",
        "\n",
        "for movie_tag in movies:\n",
        "    title = movie_tag.select_one('.mov_name').text # 제목\n",
        "    temp = {\n",
        "        '제목': title\n",
        "    }\n",
        "    # print(title)\n",
        "    li_tags = movie_tag.select('li')\n",
        "    # print(li_tags)\n",
        "    for li_tag in li_tags:\n",
        "        tit_text = li_tag.select_one('.tit').text\n",
        "        value_text = li_tag.text.replace(tit_text, '')\n",
        "        # print(tit_text, value_text, sep=\"\\t\\t\\t\")\n",
        "        temp[tit_text] = value_text\n",
        "\n",
        "    results.append(temp)\n",
        "\n",
        "results"
      ],
      "metadata": {
        "id": "IAAcXzHvekcN"
      },
      "execution_count": null,
      "outputs": []
    },
    {
      "cell_type": "code",
      "source": [
        "results = [] #\n",
        "for page in range(1, 11):\n",
        "    res = requests.post('http://www.cine21.com/rank/boxoffice/domestic_content', data={\n",
        "        'page': page,\n",
        "        'genre': 'all',\n",
        "        'period': '2024-07-31'\n",
        "    })\n",
        "    soup = BeautifulSoup(res.text) # html\n",
        "    movies = soup.select('.boxoffice_li')\n",
        "    # results = [] #\n",
        "    for movie_tag in movies:\n",
        "        title = movie_tag.select_one('.mov_name').text # 제목\n",
        "        temp = { '제목': title }\n",
        "        li_tags = movie_tag.select('li')\n",
        "        for li_tag in li_tags:\n",
        "            tit_text = li_tag.select_one('.tit').text\n",
        "            value_text = li_tag.text.replace(tit_text, '')\n",
        "            temp[tit_text] = value_text\n",
        "\n",
        "        results.append(temp)\n"
      ],
      "metadata": {
        "id": "lyzMhgt0jAsF"
      },
      "execution_count": 100,
      "outputs": []
    },
    {
      "cell_type": "code",
      "source": [
        "len(results)"
      ],
      "metadata": {
        "colab": {
          "base_uri": "https://localhost:8080/"
        },
        "id": "LV5XCoxljj90",
        "outputId": "ad79cb4b-3cbb-4c25-ca79-6875f9eb3294"
      },
      "execution_count": 101,
      "outputs": [
        {
          "output_type": "execute_result",
          "data": {
            "text/plain": [
              "200"
            ]
          },
          "metadata": {},
          "execution_count": 101
        }
      ]
    },
    {
      "cell_type": "code",
      "source": [],
      "metadata": {
        "id": "0OPFpIvXlPKc"
      },
      "execution_count": null,
      "outputs": []
    },
    {
      "cell_type": "code",
      "source": [
        "res = requests.get('https://jsonplaceholder.typicode.com/posts')\n",
        "res.status_code"
      ],
      "metadata": {
        "colab": {
          "base_uri": "https://localhost:8080/"
        },
        "id": "MQIe0tNOlPcq",
        "outputId": "027f9c4a-41c3-4b6d-b0a8-d9318bba94e0"
      },
      "execution_count": 102,
      "outputs": [
        {
          "output_type": "execute_result",
          "data": {
            "text/plain": [
              "200"
            ]
          },
          "metadata": {},
          "execution_count": 102
        }
      ]
    },
    {
      "cell_type": "code",
      "source": [
        "type(res.text)"
      ],
      "metadata": {
        "colab": {
          "base_uri": "https://localhost:8080/"
        },
        "id": "W0v8NS_JlxfP",
        "outputId": "cc074b26-4a61-45a6-dbfb-a55f1868e8a0"
      },
      "execution_count": 107,
      "outputs": [
        {
          "output_type": "execute_result",
          "data": {
            "text/plain": [
              "str"
            ]
          },
          "metadata": {},
          "execution_count": 107
        }
      ]
    },
    {
      "cell_type": "code",
      "source": [
        "# print(res.text)\n",
        "import json\n",
        "\n",
        "datas = json.loads(res.text)\n",
        "type(datas)"
      ],
      "metadata": {
        "colab": {
          "base_uri": "https://localhost:8080/"
        },
        "id": "HWW0akvNlW0i",
        "outputId": "90702ec3-a60d-4666-855f-f76a155be528"
      },
      "execution_count": 109,
      "outputs": [
        {
          "output_type": "execute_result",
          "data": {
            "text/plain": [
              "list"
            ]
          },
          "metadata": {},
          "execution_count": 109
        }
      ]
    },
    {
      "cell_type": "code",
      "source": [
        "# json"
      ],
      "metadata": {
        "id": "c8bid2wDmLwj"
      },
      "execution_count": null,
      "outputs": []
    },
    {
      "cell_type": "code",
      "source": [
        "datas[0]\n",
        "# [\n",
        "#  {\n",
        "\n",
        "#   html str\n",
        "# <li>"
      ],
      "metadata": {
        "colab": {
          "base_uri": "https://localhost:8080/"
        },
        "id": "HQ17hO49l5E3",
        "outputId": "6d6a4082-b6e2-45cc-cb1f-eed41b51130d"
      },
      "execution_count": 110,
      "outputs": [
        {
          "output_type": "execute_result",
          "data": {
            "text/plain": [
              "{'userId': 1,\n",
              " 'id': 1,\n",
              " 'title': 'sunt aut facere repellat provident occaecati excepturi optio reprehenderit',\n",
              " 'body': 'quia et suscipit\\nsuscipit recusandae consequuntur expedita et cum\\nreprehenderit molestiae ut ut quas totam\\nnostrum rerum est autem sunt rem eveniet architecto'}"
            ]
          },
          "metadata": {},
          "execution_count": 110
        }
      ]
    },
    {
      "cell_type": "markdown",
      "source": [
        "실습 1\n",
        "- 사이트 내 공지사항을 하나씩 출력해주세요.\n",
        "- https://didimteo.startup-plus.kr/default.do\n"
      ],
      "metadata": {
        "id": "1YzOjeckH-Ks"
      }
    },
    {
      "cell_type": "code",
      "source": [],
      "metadata": {
        "id": "na8v-ZPIJBWE"
      },
      "execution_count": null,
      "outputs": []
    },
    {
      "cell_type": "markdown",
      "source": [
        "실습 2\n",
        "- 실습 1의 결과에서 제목과 날짜를 분리해 딕셔너리 형태로 저장해주세요\n",
        "- 결과 : [{'제목': '[채용] 광운대학교 산학협력단(서울창업디딤터) 직원 채용 공고(~6/17)', '날짜': '2022.06.10'},\n",
        "{'제목': '[서울창업디딤터] 대강의실 및 공동작업실 이용 신청 방식 변경', '날짜': '2022.06.04’}, ... ]"
      ],
      "metadata": {
        "id": "yWgrTgLBH_3V"
      }
    },
    {
      "cell_type": "code",
      "source": [],
      "metadata": {
        "id": "HvZS8ydLv0a6"
      },
      "execution_count": null,
      "outputs": []
    },
    {
      "cell_type": "code",
      "source": [],
      "metadata": {
        "id": "98dqedkJv0s3"
      },
      "execution_count": null,
      "outputs": []
    },
    {
      "cell_type": "markdown",
      "source": [
        "실전 1 - 네이버 웹툰 크롤링\n",
        "- 네이버 웹툰들을 다음과 같이 모두 크롤링해주세요.\n",
        "- https://comic.naver.com/webtoon\n",
        "- 결과 : [{'제목': '참교육', '링크': 'https://comic.naver.com/webtoon/list?titleId=758037&weekday=mon’, ‘요일’: ’월’}, {'제\n",
        "목': '신의 탑', '링크': 'https://comic.naver.com/webtoon/list?titleId=183559&weekday=mon’ , ‘요일’: ’월’}, ... ]"
      ],
      "metadata": {
        "id": "ysNBSIS5v0SY"
      }
    },
    {
      "cell_type": "code",
      "source": [
        "res = requests.get('https://comic.naver.com/api/webtoon/titlelist/weekday?order=user')\n",
        "res.status_code"
      ],
      "metadata": {
        "colab": {
          "base_uri": "https://localhost:8080/"
        },
        "id": "F21l2g7Ev06v",
        "outputId": "46fdc377-af46-42ea-fcbb-5fb43ca244d4"
      },
      "execution_count": 111,
      "outputs": [
        {
          "output_type": "execute_result",
          "data": {
            "text/plain": [
              "200"
            ]
          },
          "metadata": {},
          "execution_count": 111
        }
      ]
    },
    {
      "cell_type": "code",
      "source": [
        "import json\n",
        "datas = json.loads(res.text)"
      ],
      "metadata": {
        "id": "oioF72VsxVJC"
      },
      "execution_count": 113,
      "outputs": []
    },
    {
      "cell_type": "code",
      "source": [
        "for dayofweek, day_webtoons in datas['titleListMap'].items():\n",
        "    print(dayofweek)\n",
        "    print(len(day_webtoons))\n",
        "    for webtoon in day_webtoons:\n",
        "        print(webtoon)\n",
        "        break"
      ],
      "metadata": {
        "id": "s1f-0oQiyqq3"
      },
      "execution_count": null,
      "outputs": []
    },
    {
      "cell_type": "code",
      "source": [
        "w_e2k = dict(zip(datas['titleListMap'].keys(), ['목', '수', '토', '일', '금', '월', '화']))"
      ],
      "metadata": {
        "id": "DZy0f4nczMAA"
      },
      "execution_count": 124,
      "outputs": []
    },
    {
      "cell_type": "code",
      "source": [
        "w_e2k"
      ],
      "metadata": {
        "colab": {
          "base_uri": "https://localhost:8080/"
        },
        "id": "uuzv6D9NzX1K",
        "outputId": "a3be18a5-9910-4c03-896c-c1fee8488554"
      },
      "execution_count": 125,
      "outputs": [
        {
          "output_type": "execute_result",
          "data": {
            "text/plain": [
              "{'THURSDAY': '목',\n",
              " 'WEDNESDAY': '수',\n",
              " 'SATURDAY': '토',\n",
              " 'SUNDAY': '일',\n",
              " 'FRIDAY': '금',\n",
              " 'MONDAY': '월',\n",
              " 'TUESDAY': '화'}"
            ]
          },
          "metadata": {},
          "execution_count": 125
        }
      ]
    },
    {
      "cell_type": "code",
      "source": [
        "datas['titleListMap']['MONDAY']\n",
        "\n",
        "WEBTOON_DETAIL_URL = 'https://comic.naver.com/webtoon/list?titleId={}&tab={}'\n",
        "webtoons = [{\n",
        "        '제목': webtoon['titleName'],\n",
        "        # https://comic.naver.com/webtoon/list?titleId=769209&tab=wed\n",
        "        '링크': WEBTOON_DETAIL_URL.format(webtoon['titleId'], dayofweek[:3].lower()),\n",
        "        '요일': w_e2k[dayofweek],\n",
        "    } for dayofweek, day_webtoons in datas['titleListMap'].items() for webtoon in day_webtoons]"
      ],
      "metadata": {
        "id": "ZKAACPxLxe3V"
      },
      "execution_count": 126,
      "outputs": []
    },
    {
      "cell_type": "code",
      "source": [
        "webtoons"
      ],
      "metadata": {
        "id": "dkmmsptv0Imc"
      },
      "execution_count": null,
      "outputs": []
    },
    {
      "cell_type": "markdown",
      "source": [],
      "metadata": {
        "id": "leY5BzuHv0Gp"
      }
    },
    {
      "cell_type": "code",
      "source": [
        "res = requests.get('https://www.rocketpunch.com/api/jobs/template?page=2')\n",
        "res.status_code"
      ],
      "metadata": {
        "colab": {
          "base_uri": "https://localhost:8080/"
        },
        "id": "p3z_7POUv1Ps",
        "outputId": "14af4843-7dd0-4237-8583-6bb45f142cb4"
      },
      "execution_count": 141,
      "outputs": [
        {
          "output_type": "execute_result",
          "data": {
            "text/plain": [
              "200"
            ]
          },
          "metadata": {},
          "execution_count": 141
        }
      ]
    },
    {
      "cell_type": "code",
      "source": [
        "res.text.find('스프린트')"
      ],
      "metadata": {
        "colab": {
          "base_uri": "https://localhost:8080/"
        },
        "id": "8WPJCnhK-aVI",
        "outputId": "4fb22b34-91d6-49ff-c1c0-ca175dc3cc75"
      },
      "execution_count": 142,
      "outputs": [
        {
          "output_type": "execute_result",
          "data": {
            "text/plain": [
              "-1"
            ]
          },
          "metadata": {},
          "execution_count": 142
        }
      ]
    },
    {
      "cell_type": "code",
      "source": [
        "import json\n",
        "datas = json.loads(res.text)"
      ],
      "metadata": {
        "id": "R2lIsr2I-eWK"
      },
      "execution_count": 143,
      "outputs": []
    },
    {
      "cell_type": "code",
      "source": [
        "res.text[:100]"
      ],
      "metadata": {
        "colab": {
          "base_uri": "https://localhost:8080/",
          "height": 36
        },
        "id": "ecb3cxwW-zLQ",
        "outputId": "6a0609e4-d23a-4fdd-ce1f-6afe1ea631cf"
      },
      "execution_count": 144,
      "outputs": [
        {
          "output_type": "execute_result",
          "data": {
            "text/plain": [
              "'{\"data\":{\"template\":\"<div class=\\\\\"ui job items segment company-list\\\\\"><div class=\\\\\"ui blank filter s'"
            ],
            "application/vnd.google.colaboratory.intrinsic+json": {
              "type": "string"
            }
          },
          "metadata": {},
          "execution_count": 144
        }
      ]
    },
    {
      "cell_type": "code",
      "source": [
        "datas.keys()"
      ],
      "metadata": {
        "colab": {
          "base_uri": "https://localhost:8080/"
        },
        "id": "84ESqHKp-lGC",
        "outputId": "a9053bd6-cbe1-478c-96cd-608871923069"
      },
      "execution_count": 145,
      "outputs": [
        {
          "output_type": "execute_result",
          "data": {
            "text/plain": [
              "dict_keys(['data', 'meta'])"
            ]
          },
          "metadata": {},
          "execution_count": 145
        }
      ]
    },
    {
      "cell_type": "code",
      "source": [
        "soup = BeautifulSoup(datas['data']['template'])"
      ],
      "metadata": {
        "id": "FlPES4fj-wbV"
      },
      "execution_count": 146,
      "outputs": []
    },
    {
      "cell_type": "code",
      "source": [
        "companies = soup.select('.company')\n",
        "\n",
        "results = []\n",
        "for company_tag in companies:\n",
        "    name = company_tag.select_one('.company-name').text.strip()\n",
        "    temp = []\n",
        "    for job_detail_tag in company_tag.select('.job-detail'):\n",
        "        temp.append({\n",
        "            '공고명': job_detail_tag.select_one('.job-name').text.strip()\n",
        "        })\n",
        "    results.append({\n",
        "        '기업명': name,\n",
        "        '채용공고들': temp\n",
        "    })\n",
        "results"
      ],
      "metadata": {
        "id": "lniasB_H--TC"
      },
      "execution_count": null,
      "outputs": []
    },
    {
      "cell_type": "code",
      "source": [],
      "metadata": {
        "id": "ilujmpRqA5KK"
      },
      "execution_count": null,
      "outputs": []
    }
  ]
}