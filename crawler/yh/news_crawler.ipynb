{
 "cells": [
  {
   "cell_type": "code",
   "execution_count": 2,
   "metadata": {},
   "outputs": [
    {
     "name": "stdout",
     "output_type": "stream",
     "text": [
      "Collecting requests\n",
      "  Using cached requests-2.32.3-py3-none-any.whl.metadata (4.6 kB)\n",
      "Collecting charset-normalizer<4,>=2 (from requests)\n",
      "  Using cached charset_normalizer-3.3.2-cp38-cp38-win_amd64.whl.metadata (34 kB)\n",
      "Collecting idna<4,>=2.5 (from requests)\n",
      "  Using cached idna-3.7-py3-none-any.whl.metadata (9.9 kB)\n",
      "Collecting urllib3<3,>=1.21.1 (from requests)\n",
      "  Using cached urllib3-2.2.2-py3-none-any.whl.metadata (6.4 kB)\n",
      "Collecting certifi>=2017.4.17 (from requests)\n",
      "  Using cached certifi-2024.7.4-py3-none-any.whl.metadata (2.2 kB)\n",
      "Using cached requests-2.32.3-py3-none-any.whl (64 kB)\n",
      "Using cached certifi-2024.7.4-py3-none-any.whl (162 kB)\n",
      "Using cached charset_normalizer-3.3.2-cp38-cp38-win_amd64.whl (99 kB)\n",
      "Using cached idna-3.7-py3-none-any.whl (66 kB)\n",
      "Using cached urllib3-2.2.2-py3-none-any.whl (121 kB)\n",
      "Installing collected packages: urllib3, idna, charset-normalizer, certifi, requests\n",
      "Successfully installed certifi-2024.7.4 charset-normalizer-3.3.2 idna-3.7 requests-2.32.3 urllib3-2.2.2\n",
      "Note: you may need to restart the kernel to use updated packages.\n"
     ]
    }
   ],
   "source": [
    "%pip install requests"
   ]
  },
  {
   "cell_type": "code",
   "execution_count": 3,
   "metadata": {},
   "outputs": [
    {
     "name": "stdout",
     "output_type": "stream",
     "text": [
      "Collecting bs4\n",
      "  Downloading bs4-0.0.2-py2.py3-none-any.whl.metadata (411 bytes)\n",
      "Collecting beautifulsoup4 (from bs4)\n",
      "  Using cached beautifulsoup4-4.12.3-py3-none-any.whl.metadata (3.8 kB)\n",
      "Collecting soupsieve>1.2 (from beautifulsoup4->bs4)\n",
      "  Using cached soupsieve-2.5-py3-none-any.whl.metadata (4.7 kB)\n",
      "Downloading bs4-0.0.2-py2.py3-none-any.whl (1.2 kB)\n",
      "Using cached beautifulsoup4-4.12.3-py3-none-any.whl (147 kB)\n",
      "Using cached soupsieve-2.5-py3-none-any.whl (36 kB)\n",
      "Installing collected packages: soupsieve, beautifulsoup4, bs4\n",
      "Successfully installed beautifulsoup4-4.12.3 bs4-0.0.2 soupsieve-2.5\n",
      "Note: you may need to restart the kernel to use updated packages.\n"
     ]
    }
   ],
   "source": [
    "%pip install bs4"
   ]
  },
  {
   "cell_type": "code",
   "execution_count": 18,
   "metadata": {},
   "outputs": [
    {
     "name": "stdout",
     "output_type": "stream",
     "text": [
      "Collecting selenium\n",
      "  Downloading selenium-4.23.1-py3-none-any.whl.metadata (7.1 kB)\n",
      "Requirement already satisfied: urllib3<3,>=1.26 in c:\\users\\jung\\desktop\\sesac_workspace\\bok_team_1\\.conda\\lib\\site-packages (from urllib3[socks]<3,>=1.26->selenium) (2.2.2)\n",
      "Collecting trio~=0.17 (from selenium)\n",
      "  Downloading trio-0.26.2-py3-none-any.whl.metadata (8.6 kB)\n",
      "Collecting trio-websocket~=0.9 (from selenium)\n",
      "  Using cached trio_websocket-0.11.1-py3-none-any.whl.metadata (4.7 kB)\n",
      "Requirement already satisfied: certifi>=2021.10.8 in c:\\users\\jung\\desktop\\sesac_workspace\\bok_team_1\\.conda\\lib\\site-packages (from selenium) (2024.7.4)\n",
      "Requirement already satisfied: typing_extensions~=4.9 in c:\\users\\jung\\desktop\\sesac_workspace\\bok_team_1\\.conda\\lib\\site-packages (from selenium) (4.12.2)\n",
      "Collecting websocket-client~=1.8 (from selenium)\n",
      "  Downloading websocket_client-1.8.0-py3-none-any.whl.metadata (8.0 kB)\n",
      "Collecting attrs>=23.2.0 (from trio~=0.17->selenium)\n",
      "  Downloading attrs-24.2.0-py3-none-any.whl.metadata (11 kB)\n",
      "Collecting sortedcontainers (from trio~=0.17->selenium)\n",
      "  Using cached sortedcontainers-2.4.0-py2.py3-none-any.whl.metadata (10 kB)\n",
      "Requirement already satisfied: idna in c:\\users\\jung\\desktop\\sesac_workspace\\bok_team_1\\.conda\\lib\\site-packages (from trio~=0.17->selenium) (3.7)\n",
      "Collecting outcome (from trio~=0.17->selenium)\n",
      "  Using cached outcome-1.3.0.post0-py2.py3-none-any.whl.metadata (2.6 kB)\n",
      "Collecting sniffio>=1.3.0 (from trio~=0.17->selenium)\n",
      "  Downloading sniffio-1.3.1-py3-none-any.whl.metadata (3.9 kB)\n",
      "Collecting cffi>=1.14 (from trio~=0.17->selenium)\n",
      "  Downloading cffi-1.17.0-cp38-cp38-win_amd64.whl.metadata (1.6 kB)\n",
      "Collecting exceptiongroup (from trio~=0.17->selenium)\n",
      "  Downloading exceptiongroup-1.2.2-py3-none-any.whl.metadata (6.6 kB)\n",
      "Collecting wsproto>=0.14 (from trio-websocket~=0.9->selenium)\n",
      "  Using cached wsproto-1.2.0-py3-none-any.whl.metadata (5.6 kB)\n",
      "Collecting pysocks!=1.5.7,<2.0,>=1.5.6 (from urllib3[socks]<3,>=1.26->selenium)\n",
      "  Downloading PySocks-1.7.1-py3-none-any.whl.metadata (13 kB)\n",
      "Collecting pycparser (from cffi>=1.14->trio~=0.17->selenium)\n",
      "  Downloading pycparser-2.22-py3-none-any.whl.metadata (943 bytes)\n",
      "Collecting h11<1,>=0.9.0 (from wsproto>=0.14->trio-websocket~=0.9->selenium)\n",
      "  Using cached h11-0.14.0-py3-none-any.whl.metadata (8.2 kB)\n",
      "Downloading selenium-4.23.1-py3-none-any.whl (9.4 MB)\n",
      "   ---------------------------------------- 0.0/9.4 MB ? eta -:--:--\n",
      "   -- ------------------------------------- 0.6/9.4 MB 17.9 MB/s eta 0:00:01\n",
      "   -------- ------------------------------- 2.1/9.4 MB 26.7 MB/s eta 0:00:01\n",
      "   ----------------- ---------------------- 4.2/9.4 MB 29.8 MB/s eta 0:00:01\n",
      "   ------------------------------- -------- 7.3/9.4 MB 38.9 MB/s eta 0:00:01\n",
      "   ---------------------------------------  9.4/9.4 MB 43.1 MB/s eta 0:00:01\n",
      "   ---------------------------------------- 9.4/9.4 MB 37.7 MB/s eta 0:00:00\n",
      "Downloading trio-0.26.2-py3-none-any.whl (475 kB)\n",
      "   ---------------------------------------- 0.0/476.0 kB ? eta -:--:--\n",
      "   --------------------------------------- 476.0/476.0 kB 29.1 MB/s eta 0:00:00\n",
      "Using cached trio_websocket-0.11.1-py3-none-any.whl (17 kB)\n",
      "Downloading websocket_client-1.8.0-py3-none-any.whl (58 kB)\n",
      "   ---------------------------------------- 0.0/58.8 kB ? eta -:--:--\n",
      "   ---------------------------------------- 58.8/58.8 kB ? eta 0:00:00\n",
      "Downloading attrs-24.2.0-py3-none-any.whl (63 kB)\n",
      "   ---------------------------------------- 0.0/63.0 kB ? eta -:--:--\n",
      "   ---------------------------------------- 63.0/63.0 kB 3.3 MB/s eta 0:00:00\n",
      "Downloading cffi-1.17.0-cp38-cp38-win_amd64.whl (180 kB)\n",
      "   ---------------------------------------- 0.0/180.7 kB ? eta -:--:--\n",
      "   --------------------------------------- 180.7/180.7 kB 11.4 MB/s eta 0:00:00\n",
      "Downloading PySocks-1.7.1-py3-none-any.whl (16 kB)\n",
      "Downloading sniffio-1.3.1-py3-none-any.whl (10 kB)\n",
      "Using cached wsproto-1.2.0-py3-none-any.whl (24 kB)\n",
      "Downloading exceptiongroup-1.2.2-py3-none-any.whl (16 kB)\n",
      "Using cached outcome-1.3.0.post0-py2.py3-none-any.whl (10 kB)\n",
      "Using cached sortedcontainers-2.4.0-py2.py3-none-any.whl (29 kB)\n",
      "Using cached h11-0.14.0-py3-none-any.whl (58 kB)\n",
      "Downloading pycparser-2.22-py3-none-any.whl (117 kB)\n",
      "   ---------------------------------------- 0.0/117.6 kB ? eta -:--:--\n",
      "   ---------------------------------------- 117.6/117.6 kB ? eta 0:00:00\n",
      "Installing collected packages: sortedcontainers, websocket-client, sniffio, pysocks, pycparser, h11, exceptiongroup, attrs, wsproto, outcome, cffi, trio, trio-websocket, selenium\n",
      "Successfully installed attrs-24.2.0 cffi-1.17.0 exceptiongroup-1.2.2 h11-0.14.0 outcome-1.3.0.post0 pycparser-2.22 pysocks-1.7.1 selenium-4.23.1 sniffio-1.3.1 sortedcontainers-2.4.0 trio-0.26.2 trio-websocket-0.11.1 websocket-client-1.8.0 wsproto-1.2.0\n",
      "Note: you may need to restart the kernel to use updated packages.\n"
     ]
    }
   ],
   "source": [
    "%pip install selenium"
   ]
  },
  {
   "cell_type": "code",
   "execution_count": 9,
   "metadata": {},
   "outputs": [],
   "source": [
    "import requests\n",
    "from bs4 import BeautifulSoup\n",
    "import os\n",
    "\n",
    "# 검색어와 날짜 설정\n",
    "query = \"금리\"\n",
    "start_date = \"20140808\"\n",
    "end_date = \"20240808\"\n",
    "\n",
    "# 페이지 번호와 기본 URL 설정\n",
    "page = 1\n",
    "base_url = \"https://www.yna.co.kr/search/index?query={query}&ctype=A&from={start_date}&to={end_date}&period=diy&page={page}\"\n",
    "\n",
    "# 폴더 생성\n",
    "if not os.path.exists('./news/'):\n",
    "    os.makedirs('./news/')\n",
    "\n",
    "# 크롤링할 최대 기사 수\n",
    "max_articles = 10\n",
    "articles_crawled = 0\n",
    "\n",
    "while articles_crawled < max_articles:\n",
    "    # 페이지 URL 구성\n",
    "    url = base_url.format(query=query, start_date=start_date, end_date=end_date, page=page)\n",
    "    headers = {\n",
    "        'User-Agent': 'Mozilla/5.0 (Windows NT 10.0; Win64; x64) AppleWebKit/537.36 (KHTML, like Gecko) Chrome/127.0.0.0 Safari/537.36',\n",
    "        'Referer': 'https://www.yna.co.kr/'\n",
    "    }\n",
    "\n",
    "    # 페이지 요청 및 HTML 파싱\n",
    "    response = requests.get(url, headers=headers)\n",
    "    soup = BeautifulSoup(response.text, 'html.parser')\n",
    "\n",
    "    # 뉴스 링크 목록 추출\n",
    "    articles = soup.select('.cts_atclst li a')\n",
    "\n",
    "    # 더 이상 기사가 없으면 중단\n",
    "    if not articles:\n",
    "        break\n",
    "\n",
    "    # 각 뉴스 링크를 순회하며 기사 크롤링\n",
    "    for article in articles:\n",
    "        if articles_crawled >= max_articles:\n",
    "            break\n",
    "        \n",
    "        article_url = article['href']\n",
    "        article_response = requests.get(article_url, headers=headers)\n",
    "        article_soup = BeautifulSoup(article_response.text, 'html.parser')\n",
    "\n",
    "        # 기사 제목 추출\n",
    "        title = article_soup.select_one('.tt2').text.strip()\n",
    "        # 파일 이름에 사용할 수 있도록 제목 전처리\n",
    "        new_title = title.replace(\"/\", \"_\").replace(\":\", \"_\").replace(\"?\", \"_\")\n",
    "\n",
    "        # 기사 날짜 추출\n",
    "        date_text = article_soup.select_one('.pbdt').text.strip().replace('.', '_').replace(':', '_').replace(' ', '_')\n",
    "\n",
    "        # 기사 본문 추출\n",
    "        # content = article_soup.select_one('#articleWrap').text.strip()\n",
    "        # content = content.replace('\\n', '').replace('\\r', '').replace('\\t', '')\n",
    "\n",
    "        # 파일에 저장\n",
    "        file_name = f'./news/{date_text}_{new_title}.txt'\n",
    "        with open(file_name, 'w', encoding='utf-8') as file:\n",
    "            file.write(f'제목: {title}\\n\\n')\n",
    "            file.write(f'내용: {content}')\n",
    "\n",
    "        # 크롤링한 기사 수 증가\n",
    "        articles_crawled += 1\n",
    "\n",
    "    # 다음 페이지로 이동\n",
    "    page += 1\n"
   ]
  },
  {
   "cell_type": "code",
   "execution_count": 37,
   "metadata": {},
   "outputs": [
    {
     "name": "stdout",
     "output_type": "stream",
     "text": [
      "Collecting pyOpenSSL\n",
      "  Downloading pyOpenSSL-24.2.1-py3-none-any.whl.metadata (13 kB)\n",
      "Collecting cryptography<44,>=41.0.5 (from pyOpenSSL)\n",
      "  Downloading cryptography-43.0.0-cp37-abi3-win_amd64.whl.metadata (5.4 kB)\n",
      "Requirement already satisfied: cffi>=1.12 in c:\\users\\jung\\desktop\\sesac_workspace\\bok_team_1\\.conda\\lib\\site-packages (from cryptography<44,>=41.0.5->pyOpenSSL) (1.17.0)\n",
      "Requirement already satisfied: pycparser in c:\\users\\jung\\desktop\\sesac_workspace\\bok_team_1\\.conda\\lib\\site-packages (from cffi>=1.12->cryptography<44,>=41.0.5->pyOpenSSL) (2.22)\n",
      "Downloading pyOpenSSL-24.2.1-py3-none-any.whl (58 kB)\n",
      "   ---------------------------------------- 0.0/58.4 kB ? eta -:--:--\n",
      "   ---------------------------------------- 58.4/58.4 kB 3.0 MB/s eta 0:00:00\n",
      "Downloading cryptography-43.0.0-cp37-abi3-win_amd64.whl (3.1 MB)\n",
      "   ---------------------------------------- 0.0/3.1 MB ? eta -:--:--\n",
      "   -------------- ------------------------- 1.1/3.1 MB 23.7 MB/s eta 0:00:01\n",
      "   -------------------------------------- - 3.0/3.1 MB 27.2 MB/s eta 0:00:01\n",
      "   ---------------------------------------- 3.1/3.1 MB 24.5 MB/s eta 0:00:00\n",
      "Installing collected packages: cryptography, pyOpenSSL\n",
      "Successfully installed cryptography-43.0.0 pyOpenSSL-24.2.1\n",
      "Note: you may need to restart the kernel to use updated packages.\n"
     ]
    }
   ],
   "source": [
    "%pip install pyOpenSSL\n",
    "\n",
    "from bs4 import BeautifulSoup as bs\n",
    "import ssl"
   ]
  },
  {
   "cell_type": "code",
   "execution_count": 41,
   "metadata": {},
   "outputs": [
    {
     "data": {
      "text/plain": [
       "<div class=\"cts_atclst\">\n",
       "</div>"
      ]
     },
     "execution_count": 41,
     "metadata": {},
     "output_type": "execute_result"
    }
   ],
   "source": [
    "# url = 'https://www.yna.co.kr/search/index?query=%EA%B8%88%EB%A6%AC&ctype=A&from=20140808&to=20240808&period=diy'\n",
    "url = 'https://ars.yna.co.kr/api/v2/nstat.recent?lang=KR&dbefore=24&sbefore=24&cattr=A&cate=economy&extitle=%3C%ED%91%9C%3E'\n",
    "res = requests.get(url, headers = {\n",
    "        'User-Agent': 'Mozilla/5.0 (Windows NT 10.0; Win64; x64) AppleWebKit/537.36 (KHTML, like Gecko) Chrome/127.0.0.0 Safari/537.36',\n",
    "        'Referer': 'https://www.yna.co.kr/'\n",
    "    })\n",
    "soup = bs(res.text, \"html.parser\")\n",
    "\n",
    "title = soup.select_one('.cts_atclst')\n",
    "title"
   ]
  },
  {
   "cell_type": "code",
   "execution_count": null,
   "metadata": {},
   "outputs": [],
   "source": []
  }
 ],
 "metadata": {
  "kernelspec": {
   "display_name": "base",
   "language": "python",
   "name": "python3"
  },
  "language_info": {
   "codemirror_mode": {
    "name": "ipython",
    "version": 3
   },
   "file_extension": ".py",
   "mimetype": "text/x-python",
   "name": "python",
   "nbconvert_exporter": "python",
   "pygments_lexer": "ipython3",
   "version": "3.8.19"
  }
 },
 "nbformat": 4,
 "nbformat_minor": 2
}
