{
 "cells": [
  {
   "cell_type": "code",
   "execution_count": 1,
   "metadata": {},
   "outputs": [],
   "source": [
    "import os\n",
    "import pandas as pd\n",
    "from db_insert_dohy import MySQLInserter"
   ]
  },
  {
   "cell_type": "code",
   "execution_count": 2,
   "metadata": {},
   "outputs": [],
   "source": [
    "# get information from environment variables\n",
    "user = os.getenv('MYSQL_USER')\n",
    "password = os.getenv('MYSQL_PASSWORD')\n",
    "host = 'localhost'\n",
    "port = 3306\n",
    "database = 'monetary_policy'"
   ]
  },
  {
   "cell_type": "code",
   "execution_count": 3,
   "metadata": {},
   "outputs": [
    {
     "name": "stdout",
     "output_type": "stream",
     "text": [
      "<class 'pandas.core.frame.DataFrame'>\n",
      "RangeIndex: 55 entries, 0 to 54\n",
      "Data columns (total 3 columns):\n",
      " #   Column  Non-Null Count  Dtype  \n",
      "---  ------  --------------  -----  \n",
      " 0   연도      55 non-null     int64  \n",
      " 1   날짜      55 non-null     object \n",
      " 2   기준금리    55 non-null     float64\n",
      "dtypes: float64(1), int64(1), object(1)\n",
      "memory usage: 1.4+ KB\n"
     ]
    }
   ],
   "source": [
    "# connect to base rate \n",
    "df_base = pd.read_json('base_rate.json')\n",
    "df_base.info()"
   ]
  },
  {
   "cell_type": "code",
   "execution_count": 13,
   "metadata": {},
   "outputs": [
    {
     "data": {
      "text/html": [
       "<div>\n",
       "<style scoped>\n",
       "    .dataframe tbody tr th:only-of-type {\n",
       "        vertical-align: middle;\n",
       "    }\n",
       "\n",
       "    .dataframe tbody tr th {\n",
       "        vertical-align: top;\n",
       "    }\n",
       "\n",
       "    .dataframe thead th {\n",
       "        text-align: right;\n",
       "    }\n",
       "</style>\n",
       "<table border=\"1\" class=\"dataframe\">\n",
       "  <thead>\n",
       "    <tr style=\"text-align: right;\">\n",
       "      <th></th>\n",
       "      <th>base_rate</th>\n",
       "      <th>rate_announcement_date</th>\n",
       "    </tr>\n",
       "  </thead>\n",
       "  <tbody>\n",
       "    <tr>\n",
       "      <th>54</th>\n",
       "      <td>4.75</td>\n",
       "      <td>1999-05-06</td>\n",
       "    </tr>\n",
       "    <tr>\n",
       "      <th>53</th>\n",
       "      <td>5.00</td>\n",
       "      <td>2000-02-10</td>\n",
       "    </tr>\n",
       "    <tr>\n",
       "      <th>52</th>\n",
       "      <td>5.25</td>\n",
       "      <td>2000-10-05</td>\n",
       "    </tr>\n",
       "    <tr>\n",
       "      <th>51</th>\n",
       "      <td>5.00</td>\n",
       "      <td>2001-02-08</td>\n",
       "    </tr>\n",
       "    <tr>\n",
       "      <th>50</th>\n",
       "      <td>4.75</td>\n",
       "      <td>2001-07-05</td>\n",
       "    </tr>\n",
       "  </tbody>\n",
       "</table>\n",
       "</div>"
      ],
      "text/plain": [
       "    base_rate rate_announcement_date\n",
       "54       4.75             1999-05-06\n",
       "53       5.00             2000-02-10\n",
       "52       5.25             2000-10-05\n",
       "51       5.00             2001-02-08\n",
       "50       4.75             2001-07-05"
      ]
     },
     "execution_count": 13,
     "metadata": {},
     "output_type": "execute_result"
    }
   ],
   "source": [
    "df_base['date'] = df_base['연도'].astype(str) + '-' + df_base['날짜'].str.replace('월 ', '-').str.replace('일', '')\n",
    "df_base['date'] = pd.to_datetime(df_base['date'])\n",
    "df_base_insert = df_base[['기준금리', 'date']]\n",
    "df_base_insert = df_base_insert.rename(columns={'기준금리': 'base_rate', 'date': 'rate_announcement_date'})\n",
    "df_base_sorted = df_base_insert.sort_values(by='rate_announcement_date')\n",
    "df_base_sorted.head()\n"
   ]
  },
  {
   "cell_type": "code",
   "execution_count": 15,
   "metadata": {},
   "outputs": [],
   "source": [
    "inserter = MySQLInserter(user, password, host, port, database)\n",
    "inserter.insert_many('base_rate', df_base_sorted)\n",
    "inserter.close()"
   ]
  },
  {
   "cell_type": "code",
   "execution_count": 8,
   "metadata": {},
   "outputs": [
    {
     "data": {
      "text/html": [
       "<div>\n",
       "<style scoped>\n",
       "    .dataframe tbody tr th:only-of-type {\n",
       "        vertical-align: middle;\n",
       "    }\n",
       "\n",
       "    .dataframe tbody tr th {\n",
       "        vertical-align: top;\n",
       "    }\n",
       "\n",
       "    .dataframe thead th {\n",
       "        text-align: right;\n",
       "    }\n",
       "</style>\n",
       "<table border=\"1\" class=\"dataframe\">\n",
       "  <thead>\n",
       "    <tr style=\"text-align: right;\">\n",
       "      <th></th>\n",
       "      <th>Unnamed: 0</th>\n",
       "      <th>Date</th>\n",
       "      <th>Call_Rate</th>\n",
       "      <th>CD</th>\n",
       "      <th>Treasury_Bond_3Y</th>\n",
       "      <th>Treasury_Bond_5Y</th>\n",
       "      <th>Corporate_Bond</th>\n",
       "    </tr>\n",
       "  </thead>\n",
       "  <tbody>\n",
       "    <tr>\n",
       "      <th>0</th>\n",
       "      <td>0</td>\n",
       "      <td>2014.08.11</td>\n",
       "      <td>2.49</td>\n",
       "      <td>2.63</td>\n",
       "      <td>2.51</td>\n",
       "      <td>2.73</td>\n",
       "      <td>2.91</td>\n",
       "    </tr>\n",
       "    <tr>\n",
       "      <th>1</th>\n",
       "      <td>1</td>\n",
       "      <td>2014.08.12</td>\n",
       "      <td>2.49</td>\n",
       "      <td>2.62</td>\n",
       "      <td>2.52</td>\n",
       "      <td>2.75</td>\n",
       "      <td>2.91</td>\n",
       "    </tr>\n",
       "    <tr>\n",
       "      <th>2</th>\n",
       "      <td>2</td>\n",
       "      <td>2014.08.13</td>\n",
       "      <td>2.49</td>\n",
       "      <td>2.61</td>\n",
       "      <td>2.52</td>\n",
       "      <td>2.75</td>\n",
       "      <td>2.91</td>\n",
       "    </tr>\n",
       "    <tr>\n",
       "      <th>3</th>\n",
       "      <td>3</td>\n",
       "      <td>2014.08.14</td>\n",
       "      <td>2.49</td>\n",
       "      <td>2.46</td>\n",
       "      <td>2.54</td>\n",
       "      <td>2.76</td>\n",
       "      <td>2.93</td>\n",
       "    </tr>\n",
       "    <tr>\n",
       "      <th>4</th>\n",
       "      <td>4</td>\n",
       "      <td>2014.08.18</td>\n",
       "      <td>2.24</td>\n",
       "      <td>2.43</td>\n",
       "      <td>2.56</td>\n",
       "      <td>2.79</td>\n",
       "      <td>2.95</td>\n",
       "    </tr>\n",
       "  </tbody>\n",
       "</table>\n",
       "</div>"
      ],
      "text/plain": [
       "   Unnamed: 0        Date  Call_Rate    CD Treasury_Bond_3Y Treasury_Bond_5Y  \\\n",
       "0           0  2014.08.11       2.49  2.63             2.51             2.73   \n",
       "1           1  2014.08.12       2.49  2.62             2.52             2.75   \n",
       "2           2  2014.08.13       2.49  2.61             2.52             2.75   \n",
       "3           3  2014.08.14       2.49  2.46             2.54             2.76   \n",
       "4           4  2014.08.18       2.24  2.43             2.56             2.79   \n",
       "\n",
       "  Corporate_Bond  \n",
       "0           2.91  \n",
       "1           2.91  \n",
       "2           2.91  \n",
       "3           2.93  \n",
       "4           2.95  "
      ]
     },
     "execution_count": 8,
     "metadata": {},
     "output_type": "execute_result"
    }
   ],
   "source": [
    "# connect to call rate\n",
    "df_call = pd.read_csv('../preprocess/data_combine/call_rates_3.csv')\n",
    "df_call.head()"
   ]
  },
  {
   "cell_type": "code",
   "execution_count": 11,
   "metadata": {},
   "outputs": [
    {
     "name": "stdout",
     "output_type": "stream",
     "text": [
      "<class 'pandas.core.frame.DataFrame'>\n",
      "RangeIndex: 2466 entries, 0 to 2465\n",
      "Data columns (total 7 columns):\n",
      " #   Column            Non-Null Count  Dtype  \n",
      "---  ------            --------------  -----  \n",
      " 0   Unnamed: 0        2466 non-null   int64  \n",
      " 1   Date              2466 non-null   object \n",
      " 2   Call_Rate         2466 non-null   float64\n",
      " 3   CD                2466 non-null   object \n",
      " 4   Treasury_Bond_3Y  2466 non-null   object \n",
      " 5   Treasury_Bond_5Y  2466 non-null   object \n",
      " 6   Corporate_Bond    2466 non-null   object \n",
      "dtypes: float64(1), int64(1), object(5)\n",
      "memory usage: 135.0+ KB\n"
     ]
    }
   ],
   "source": [
    "df_call.info()"
   ]
  },
  {
   "cell_type": "code",
   "execution_count": 16,
   "metadata": {},
   "outputs": [],
   "source": [
    "df_call['Date'] = pd.to_datetime(df_call['Date'])\n",
    "df_call.rename(columns={'Call Rate': 'call_rate', 'Date': 'rate_announcement_date'}, inplace=True)"
   ]
  },
  {
   "cell_type": "code",
   "execution_count": null,
   "metadata": {},
   "outputs": [],
   "source": []
  }
 ],
 "metadata": {
  "kernelspec": {
   "display_name": "bok_team_1",
   "language": "python",
   "name": "python3"
  },
  "language_info": {
   "codemirror_mode": {
    "name": "ipython",
    "version": 3
   },
   "file_extension": ".py",
   "mimetype": "text/x-python",
   "name": "python",
   "nbconvert_exporter": "python",
   "pygments_lexer": "ipython3",
   "version": "3.8.18"
  }
 },
 "nbformat": 4,
 "nbformat_minor": 2
}
