{
 "cells": [
  {
   "cell_type": "code",
   "execution_count": null,
   "id": "e52dd304-3892-492b-96b4-7b376e37ea43",
   "metadata": {},
   "outputs": [],
   "source": [
    "#언론사별 연도별(2014.8~2024.8) 검색 된 기사\n",
    "import pandas as pd\n",
    "import matplotlib.pyplot as plt\n",
    "\n",
    "file_path = r\"C:\\Users\\rapha\\Desktop\\workspace\\PJT\\Shared\\News_U.csv\"\n",
    "df = pd.read_csv(file_path)\n",
    "\n",
    "df['Date'] = pd.to_datetime(df['Date'])\n",
    "df['Year'] = df['Date'].dt.year\n",
    "\n",
    "# 연도와 언론사별로 Grouping해서 기사 수를 counting\n",
    "news_count = df.groupby(['Year', 'Source']).size().unstack(fill_value=0)\n",
    "\n",
    "# bar chart 구성\n",
    "news_count.plot(kind='bar', stacked=True, figsize=(10, 6), color=['dodgerblue', 'darkorange', 'forestgreen'])\n",
    "\n",
    "plt.title('Total number of news per agency overtime')\n",
    "plt.ylabel('Number of news articles')\n",
    "plt.xlabel('Year')\n",
    "plt.legend(title='News agency', loc='upper left')\n",
    "\n",
    "# 그림파일 저장\n",
    "plt.savefig(r'C:\\Users\\rapha\\Desktop\\workspace\\PJT\\Shared\\News.png',format='png',dpi=200)\n",
    "plt.show()"
   ]
  }
 ],
 "metadata": {
  "kernelspec": {
   "display_name": "Python 3 (ipykernel)",
   "language": "python",
   "name": "python3"
  },
  "language_info": {
   "codemirror_mode": {
    "name": "ipython",
    "version": 3
   },
   "file_extension": ".py",
   "mimetype": "text/x-python",
   "name": "python",
   "nbconvert_exporter": "python",
   "pygments_lexer": "ipython3",
   "version": "3.8.19"
  }
 },
 "nbformat": 4,
 "nbformat_minor": 5
}
